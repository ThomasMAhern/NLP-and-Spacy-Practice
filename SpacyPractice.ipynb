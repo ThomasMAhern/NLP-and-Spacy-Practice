{
 "cells": [
  {
   "cell_type": "code",
   "execution_count": 284,
   "id": "0933b34f-0ef8-49ad-b201-41ff23fbb47a",
   "metadata": {
    "scrolled": true,
    "tags": []
   },
   "outputs": [
    {
     "name": "stdout",
     "output_type": "stream",
     "text": [
      "\u001b[33mDEPRECATION: Configuring installation scheme with distutils config files is deprecated and will no longer work in the near future. If you are using a Homebrew or Linuxbrew Python, please see discussion at https://github.com/Homebrew/homebrew-core/issues/76621\u001b[0m\n",
      "Requirement already satisfied: spacy in /usr/local/lib/python3.9/site-packages (3.1.1)\n",
      "Requirement already satisfied: cymem<2.1.0,>=2.0.2 in /usr/local/lib/python3.9/site-packages (from spacy) (2.0.5)\n",
      "Requirement already satisfied: requests<3.0.0,>=2.13.0 in /usr/local/lib/python3.9/site-packages (from spacy) (2.25.1)\n",
      "Requirement already satisfied: typer<0.4.0,>=0.3.0 in /usr/local/lib/python3.9/site-packages (from spacy) (0.3.2)\n",
      "Requirement already satisfied: pydantic!=1.8,!=1.8.1,<1.9.0,>=1.7.4 in /usr/local/lib/python3.9/site-packages (from spacy) (1.8.2)\n",
      "Requirement already satisfied: spacy-legacy<3.1.0,>=3.0.7 in /usr/local/lib/python3.9/site-packages (from spacy) (3.0.8)\n",
      "Requirement already satisfied: murmurhash<1.1.0,>=0.28.0 in /usr/local/lib/python3.9/site-packages (from spacy) (1.0.5)\n",
      "Requirement already satisfied: srsly<3.0.0,>=2.4.1 in /usr/local/lib/python3.9/site-packages (from spacy) (2.4.1)\n",
      "Requirement already satisfied: catalogue<2.1.0,>=2.0.4 in /usr/local/lib/python3.9/site-packages (from spacy) (2.0.4)\n",
      "Requirement already satisfied: blis<0.8.0,>=0.4.0 in /usr/local/lib/python3.9/site-packages (from spacy) (0.7.4)\n",
      "Requirement already satisfied: pathy>=0.3.5 in /usr/local/lib/python3.9/site-packages (from spacy) (0.6.0)\n",
      "Requirement already satisfied: setuptools in /usr/local/lib/python3.9/site-packages (from spacy) (56.0.0)\n",
      "Requirement already satisfied: numpy>=1.15.0 in /usr/local/lib/python3.9/site-packages (from spacy) (1.21.0)\n",
      "Requirement already satisfied: preshed<3.1.0,>=3.0.2 in /usr/local/lib/python3.9/site-packages (from spacy) (3.0.5)\n",
      "Requirement already satisfied: thinc<8.1.0,>=8.0.8 in /usr/local/lib/python3.9/site-packages (from spacy) (8.0.8)\n",
      "Requirement already satisfied: jinja2 in /usr/local/lib/python3.9/site-packages (from spacy) (3.0.1)\n",
      "Requirement already satisfied: tqdm<5.0.0,>=4.38.0 in /usr/local/lib/python3.9/site-packages (from spacy) (4.62.0)\n",
      "Requirement already satisfied: packaging>=20.0 in /usr/local/lib/python3.9/site-packages (from spacy) (21.0)\n",
      "Requirement already satisfied: wasabi<1.1.0,>=0.8.1 in /usr/local/lib/python3.9/site-packages (from spacy) (0.8.2)\n",
      "Requirement already satisfied: pyparsing>=2.0.2 in /usr/local/lib/python3.9/site-packages (from packaging>=20.0->spacy) (2.4.7)\n",
      "Requirement already satisfied: smart-open<6.0.0,>=5.0.0 in /usr/local/lib/python3.9/site-packages (from pathy>=0.3.5->spacy) (5.1.0)\n",
      "Requirement already satisfied: typing-extensions>=3.7.4.3 in /usr/local/lib/python3.9/site-packages (from pydantic!=1.8,!=1.8.1,<1.9.0,>=1.7.4->spacy) (3.10.0.0)\n",
      "Requirement already satisfied: urllib3<1.27,>=1.21.1 in /usr/local/lib/python3.9/site-packages (from requests<3.0.0,>=2.13.0->spacy) (1.26.6)\n",
      "Requirement already satisfied: idna<3,>=2.5 in /usr/local/lib/python3.9/site-packages (from requests<3.0.0,>=2.13.0->spacy) (2.10)\n",
      "Requirement already satisfied: certifi>=2017.4.17 in /usr/local/lib/python3.9/site-packages (from requests<3.0.0,>=2.13.0->spacy) (2021.5.30)\n",
      "Requirement already satisfied: chardet<5,>=3.0.2 in /usr/local/lib/python3.9/site-packages (from requests<3.0.0,>=2.13.0->spacy) (3.0.4)\n",
      "Requirement already satisfied: click<7.2.0,>=7.1.1 in /usr/local/lib/python3.9/site-packages (from typer<0.4.0,>=0.3.0->spacy) (7.1.2)\n",
      "Requirement already satisfied: MarkupSafe>=2.0 in /usr/local/lib/python3.9/site-packages (from jinja2->spacy) (2.0.1)\n",
      "\u001b[33mWARNING: You are using pip version 21.2.3; however, version 21.2.4 is available.\n",
      "You should consider upgrading via the '/usr/local/opt/python@3.9/bin/python3.9 -m pip install --upgrade pip' command.\u001b[0m\n"
     ]
    }
   ],
   "source": [
    "!pip3 install -U spacy\n",
    "# from spacy.lang.en import English # Do I need this?\n",
    "\n",
    "import spacy\n",
    "from spacy import displacy\n",
    "from spacy.matcher import Matcher\n",
    "\n",
    "nlp = spacy.load('en_core_web_md')\n",
    "\n",
    "# # run in terminal if needed\n",
    "# /Applications/Xcode.app/Contents/Developer/usr/bin/python3 -m pip install --upgrade pip"
   ]
  },
  {
   "cell_type": "code",
   "execution_count": 279,
   "id": "f8aa683f-be76-4d0a-968c-ca33de887718",
   "metadata": {},
   "outputs": [
    {
     "data": {
      "text/plain": [
       "On 11 August 2021, Thomas uses the Apple Macbook for practicing Python while traveling in Greece!! Testing 1, two, 3"
      ]
     },
     "execution_count": 279,
     "metadata": {},
     "output_type": "execute_result"
    }
   ],
   "source": [
    "# load text\n",
    "doc = nlp(\"On 11 August 2021, Thomas uses the Apple Macbook for practicing Python while traveling in Greece!! Testing 1, two, 3\")\n",
    "\n",
    "# load a text file\n",
    "file_doc = nlp(open('test.txt').read())\n",
    "\n",
    "# Is more efficient? timeit says microscopically\n",
    "                    # file_name = 'test.txt'\n",
    "                    # file_text = open(file_name).read()\n",
    "                    # file_doc = nlp(file_text)\n",
    "                    # open(file_name).close()\n",
    "doc"
   ]
  },
  {
   "cell_type": "markdown",
   "id": "15844d87-81fe-4c08-82e7-d66e39789afa",
   "metadata": {},
   "source": [
    "."
   ]
  },
  {
   "cell_type": "markdown",
   "id": "f7199db1-25a1-471c-9d13-2cf8f19ae90b",
   "metadata": {},
   "source": [
    "# Tokens\n",
    "doing things with them"
   ]
  },
  {
   "cell_type": "code",
   "execution_count": 283,
   "id": "3fd1c301-c2a7-4a9f-936f-c2808ab9ef80",
   "metadata": {},
   "outputs": [
    {
     "data": {
      "text/plain": [
       "[('On', 'on', False, 0, 'ADP', 'adposition', 'prep', True),\n",
       " ('11', '11', True, 1, 'NUM', 'numeral', 'nummod', False),\n",
       " ('August', 'August', False, 2, 'PROPN', 'proper noun', 'pobj', False),\n",
       " ('2021', '2021', True, 3, 'NUM', 'numeral', 'nummod', False),\n",
       " (',', ',', False, 4, 'PUNCT', 'punctuation', 'punct', False),\n",
       " ('Thomas', 'Thomas', False, 5, 'PROPN', 'proper noun', 'nsubj', False),\n",
       " ('uses', 'use', False, 6, 'VERB', 'verb', 'ROOT', False),\n",
       " ('the', 'the', False, 7, 'DET', 'determiner', 'det', True),\n",
       " ('Apple', 'Apple', False, 8, 'PROPN', 'proper noun', 'compound', False),\n",
       " ('Macbook', 'Macbook', False, 9, 'PROPN', 'proper noun', 'dobj', False),\n",
       " ('for', 'for', False, 10, 'ADP', 'adposition', 'prep', True),\n",
       " ('practicing', 'practice', False, 11, 'VERB', 'verb', 'pcomp', False),\n",
       " ('Python', 'Python', False, 12, 'PROPN', 'proper noun', 'dobj', False),\n",
       " ('while',\n",
       "  'while',\n",
       "  False,\n",
       "  13,\n",
       "  'SCONJ',\n",
       "  'subordinating conjunction',\n",
       "  'mark',\n",
       "  True),\n",
       " ('traveling', 'travel', False, 14, 'VERB', 'verb', 'advcl', False),\n",
       " ('in', 'in', False, 15, 'ADP', 'adposition', 'prep', True),\n",
       " ('Greece', 'Greece', False, 16, 'PROPN', 'proper noun', 'pobj', False),\n",
       " ('!', '!', False, 17, 'PUNCT', 'punctuation', 'punct', False),\n",
       " ('!', '!', False, 18, 'PUNCT', 'punctuation', 'punct', False),\n",
       " ('Testing', 'testing', False, 19, 'NOUN', 'noun', 'ROOT', False),\n",
       " ('1', '1', True, 20, 'NUM', 'numeral', 'nummod', False),\n",
       " (',', ',', False, 21, 'PUNCT', 'punctuation', 'punct', False),\n",
       " ('two', 'two', True, 22, 'NUM', 'numeral', 'nummod', True),\n",
       " (',', ',', False, 23, 'PUNCT', 'punctuation', 'punct', False),\n",
       " ('3', '3', True, 24, 'NUM', 'numeral', 'nummod', False)]"
      ]
     },
     "execution_count": 283,
     "metadata": {},
     "output_type": "execute_result"
    }
   ],
   "source": [
    "# text,  lemmatization, number-ish?, index,  part of speech, dependency structure \n",
    "[(token.text, token.lemma_, token.like_num, token.i, token.pos_, spacy.explain(token.pos_), token.dep_, token.is_stop) for token in doc]\n",
    "\n",
    "# can add the following: token.is_alpha, token.is_punct "
   ]
  },
  {
   "cell_type": "code",
   "execution_count": 232,
   "id": "bec44ccb-edaa-4029-a907-2b1026f50fb4",
   "metadata": {
    "scrolled": true,
    "tags": []
   },
   "outputs": [
    {
     "name": "stdout",
     "output_type": "stream",
     "text": [
      "<class 'spacy.tokens.doc.Doc'>\n",
      "<class 'spacy.tokens.token.Token'>\n",
      "August\n",
      "Xxxxx\n"
     ]
    }
   ],
   "source": [
    "# What is it? \n",
    "print(type(doc))        #it's a spacy doc\n",
    "print(type(doc[2]))     #it's a spacy token\n",
    "\n",
    "# grabbing one based on index\n",
    "print(doc[2])\n",
    "\n",
    "# shape of the word\n",
    "print(doc[2].shape_)\n"
   ]
  },
  {
   "cell_type": "code",
   "execution_count": 188,
   "id": "46f34fd5-5a01-4079-9c4c-0a03b84aa163",
   "metadata": {
    "tags": []
   },
   "outputs": [
    {
     "name": "stdout",
     "output_type": "stream",
     "text": [
      "Numerals that do not fall under another type\n",
      "Countries, cities, states\n",
      "determiner\n"
     ]
    }
   ],
   "source": [
    "# What the hell is this stuff?\n",
    "print(spacy.explain(\"CARDINAL\"))\n",
    "print(spacy.explain(\"GPE\"))\n",
    "print(spacy.explain(\"DET\"))"
   ]
  },
  {
   "cell_type": "markdown",
   "id": "cccc00ff-bc62-45ae-9db5-02a923f22eed",
   "metadata": {},
   "source": [
    "."
   ]
  },
  {
   "cell_type": "markdown",
   "id": "b4e5b74b-3fd1-4cf7-a1b3-1f02777a493d",
   "metadata": {},
   "source": [
    "# Entities \n",
    "doing things with them\n",
    "(have the md library loaded up)"
   ]
  },
  {
   "cell_type": "code",
   "execution_count": 189,
   "id": "5122d701-e26c-4b35-977d-9aa230d567b3",
   "metadata": {},
   "outputs": [
    {
     "name": "stdout",
     "output_type": "stream",
     "text": [
      "(11 August 2021, Thomas, the Apple Macbook, Greece, 1, two, 3)\n",
      "\n"
     ]
    },
    {
     "data": {
      "text/html": [
       "<span class=\"tex2jax_ignore\"><div class=\"entities\" style=\"line-height: 2.5; direction: ltr\">On \n",
       "<mark class=\"entity\" style=\"background: #bfe1d9; padding: 0.45em 0.6em; margin: 0 0.25em; line-height: 1; border-radius: 0.35em;\">\n",
       "    11 August 2021\n",
       "    <span style=\"font-size: 0.8em; font-weight: bold; line-height: 1; border-radius: 0.35em; vertical-align: middle; margin-left: 0.5rem\">DATE</span>\n",
       "</mark>\n",
       ", \n",
       "<mark class=\"entity\" style=\"background: #aa9cfc; padding: 0.45em 0.6em; margin: 0 0.25em; line-height: 1; border-radius: 0.35em;\">\n",
       "    Thomas\n",
       "    <span style=\"font-size: 0.8em; font-weight: bold; line-height: 1; border-radius: 0.35em; vertical-align: middle; margin-left: 0.5rem\">PERSON</span>\n",
       "</mark>\n",
       " uses \n",
       "<mark class=\"entity\" style=\"background: #7aecec; padding: 0.45em 0.6em; margin: 0 0.25em; line-height: 1; border-radius: 0.35em;\">\n",
       "    the Apple Macbook\n",
       "    <span style=\"font-size: 0.8em; font-weight: bold; line-height: 1; border-radius: 0.35em; vertical-align: middle; margin-left: 0.5rem\">ORG</span>\n",
       "</mark>\n",
       " for practicing Python while traveling in \n",
       "<mark class=\"entity\" style=\"background: #feca74; padding: 0.45em 0.6em; margin: 0 0.25em; line-height: 1; border-radius: 0.35em;\">\n",
       "    Greece\n",
       "    <span style=\"font-size: 0.8em; font-weight: bold; line-height: 1; border-radius: 0.35em; vertical-align: middle; margin-left: 0.5rem\">GPE</span>\n",
       "</mark>\n",
       "!! Testing \n",
       "<mark class=\"entity\" style=\"background: #e4e7d2; padding: 0.45em 0.6em; margin: 0 0.25em; line-height: 1; border-radius: 0.35em;\">\n",
       "    1\n",
       "    <span style=\"font-size: 0.8em; font-weight: bold; line-height: 1; border-radius: 0.35em; vertical-align: middle; margin-left: 0.5rem\">CARDINAL</span>\n",
       "</mark>\n",
       ", \n",
       "<mark class=\"entity\" style=\"background: #e4e7d2; padding: 0.45em 0.6em; margin: 0 0.25em; line-height: 1; border-radius: 0.35em;\">\n",
       "    two\n",
       "    <span style=\"font-size: 0.8em; font-weight: bold; line-height: 1; border-radius: 0.35em; vertical-align: middle; margin-left: 0.5rem\">CARDINAL</span>\n",
       "</mark>\n",
       ", \n",
       "<mark class=\"entity\" style=\"background: #e4e7d2; padding: 0.45em 0.6em; margin: 0 0.25em; line-height: 1; border-radius: 0.35em;\">\n",
       "    3\n",
       "    <span style=\"font-size: 0.8em; font-weight: bold; line-height: 1; border-radius: 0.35em; vertical-align: middle; margin-left: 0.5rem\">CARDINAL</span>\n",
       "</mark>\n",
       "</div></span>"
      ],
      "text/plain": [
       "<IPython.core.display.HTML object>"
      ]
     },
     "metadata": {},
     "output_type": "display_data"
    },
    {
     "name": "stdout",
     "output_type": "stream",
     "text": [
      "\n",
      "<class 'spacy.tokens.span.Span'>\n"
     ]
    }
   ],
   "source": [
    "#show the ents\n",
    "print(doc.ents)\n",
    "\n",
    "\n",
    "# make sure to import displacy\n",
    "print()\n",
    "displacy.render(doc, style=\"ent\")\n",
    "\n",
    "# shows that each ent is also a span\n",
    "print()\n",
    "print(type(doc.ents[0]))"
   ]
  },
  {
   "cell_type": "code",
   "execution_count": null,
   "id": "671f4561-eecf-4aae-b7da-64d7986a1594",
   "metadata": {},
   "outputs": [],
   "source": []
  },
  {
   "cell_type": "markdown",
   "id": "a444c818-9040-4f30-9416-e3f8073f25de",
   "metadata": {},
   "source": [
    "."
   ]
  },
  {
   "cell_type": "markdown",
   "id": "264b6225-45b4-4547-b1b8-07bf7b285a73",
   "metadata": {
    "tags": []
   },
   "source": [
    "# Visualizations"
   ]
  },
  {
   "cell_type": "code",
   "execution_count": 193,
   "id": "9124e35e-0a1b-463b-afad-2935d65ef58c",
   "metadata": {},
   "outputs": [
    {
     "data": {
      "text/html": [
       "<span class=\"tex2jax_ignore\"><svg xmlns=\"http://www.w3.org/2000/svg\" xmlns:xlink=\"http://www.w3.org/1999/xlink\" xml:lang=\"en\" id=\"9cd5e66828d94e978aaf8e37dddd2de9-0\" class=\"displacy\" width=\"2850\" height=\"574.5\" direction=\"ltr\" style=\"max-width: none; height: 574.5px; color: #000000; background: #ffffff; font-family: Arial; direction: ltr\">\n",
       "<text class=\"displacy-token\" fill=\"currentColor\" text-anchor=\"middle\" y=\"484.5\">\n",
       "    <tspan class=\"displacy-word\" fill=\"currentColor\" x=\"50\">On</tspan>\n",
       "    <tspan class=\"displacy-tag\" dy=\"2em\" fill=\"currentColor\" x=\"50\">ADP</tspan>\n",
       "</text>\n",
       "\n",
       "<text class=\"displacy-token\" fill=\"currentColor\" text-anchor=\"middle\" y=\"484.5\">\n",
       "    <tspan class=\"displacy-word\" fill=\"currentColor\" x=\"225\">11</tspan>\n",
       "    <tspan class=\"displacy-tag\" dy=\"2em\" fill=\"currentColor\" x=\"225\">NUM</tspan>\n",
       "</text>\n",
       "\n",
       "<text class=\"displacy-token\" fill=\"currentColor\" text-anchor=\"middle\" y=\"484.5\">\n",
       "    <tspan class=\"displacy-word\" fill=\"currentColor\" x=\"400\">August</tspan>\n",
       "    <tspan class=\"displacy-tag\" dy=\"2em\" fill=\"currentColor\" x=\"400\">PROPN</tspan>\n",
       "</text>\n",
       "\n",
       "<text class=\"displacy-token\" fill=\"currentColor\" text-anchor=\"middle\" y=\"484.5\">\n",
       "    <tspan class=\"displacy-word\" fill=\"currentColor\" x=\"575\">2021,</tspan>\n",
       "    <tspan class=\"displacy-tag\" dy=\"2em\" fill=\"currentColor\" x=\"575\">NUM</tspan>\n",
       "</text>\n",
       "\n",
       "<text class=\"displacy-token\" fill=\"currentColor\" text-anchor=\"middle\" y=\"484.5\">\n",
       "    <tspan class=\"displacy-word\" fill=\"currentColor\" x=\"750\">Thomas</tspan>\n",
       "    <tspan class=\"displacy-tag\" dy=\"2em\" fill=\"currentColor\" x=\"750\">PROPN</tspan>\n",
       "</text>\n",
       "\n",
       "<text class=\"displacy-token\" fill=\"currentColor\" text-anchor=\"middle\" y=\"484.5\">\n",
       "    <tspan class=\"displacy-word\" fill=\"currentColor\" x=\"925\">uses</tspan>\n",
       "    <tspan class=\"displacy-tag\" dy=\"2em\" fill=\"currentColor\" x=\"925\">VERB</tspan>\n",
       "</text>\n",
       "\n",
       "<text class=\"displacy-token\" fill=\"currentColor\" text-anchor=\"middle\" y=\"484.5\">\n",
       "    <tspan class=\"displacy-word\" fill=\"currentColor\" x=\"1100\">the</tspan>\n",
       "    <tspan class=\"displacy-tag\" dy=\"2em\" fill=\"currentColor\" x=\"1100\">DET</tspan>\n",
       "</text>\n",
       "\n",
       "<text class=\"displacy-token\" fill=\"currentColor\" text-anchor=\"middle\" y=\"484.5\">\n",
       "    <tspan class=\"displacy-word\" fill=\"currentColor\" x=\"1275\">Apple</tspan>\n",
       "    <tspan class=\"displacy-tag\" dy=\"2em\" fill=\"currentColor\" x=\"1275\">PROPN</tspan>\n",
       "</text>\n",
       "\n",
       "<text class=\"displacy-token\" fill=\"currentColor\" text-anchor=\"middle\" y=\"484.5\">\n",
       "    <tspan class=\"displacy-word\" fill=\"currentColor\" x=\"1450\">Macbook</tspan>\n",
       "    <tspan class=\"displacy-tag\" dy=\"2em\" fill=\"currentColor\" x=\"1450\">PROPN</tspan>\n",
       "</text>\n",
       "\n",
       "<text class=\"displacy-token\" fill=\"currentColor\" text-anchor=\"middle\" y=\"484.5\">\n",
       "    <tspan class=\"displacy-word\" fill=\"currentColor\" x=\"1625\">for</tspan>\n",
       "    <tspan class=\"displacy-tag\" dy=\"2em\" fill=\"currentColor\" x=\"1625\">ADP</tspan>\n",
       "</text>\n",
       "\n",
       "<text class=\"displacy-token\" fill=\"currentColor\" text-anchor=\"middle\" y=\"484.5\">\n",
       "    <tspan class=\"displacy-word\" fill=\"currentColor\" x=\"1800\">practicing</tspan>\n",
       "    <tspan class=\"displacy-tag\" dy=\"2em\" fill=\"currentColor\" x=\"1800\">VERB</tspan>\n",
       "</text>\n",
       "\n",
       "<text class=\"displacy-token\" fill=\"currentColor\" text-anchor=\"middle\" y=\"484.5\">\n",
       "    <tspan class=\"displacy-word\" fill=\"currentColor\" x=\"1975\">Python</tspan>\n",
       "    <tspan class=\"displacy-tag\" dy=\"2em\" fill=\"currentColor\" x=\"1975\">PROPN</tspan>\n",
       "</text>\n",
       "\n",
       "<text class=\"displacy-token\" fill=\"currentColor\" text-anchor=\"middle\" y=\"484.5\">\n",
       "    <tspan class=\"displacy-word\" fill=\"currentColor\" x=\"2150\">while</tspan>\n",
       "    <tspan class=\"displacy-tag\" dy=\"2em\" fill=\"currentColor\" x=\"2150\">SCONJ</tspan>\n",
       "</text>\n",
       "\n",
       "<text class=\"displacy-token\" fill=\"currentColor\" text-anchor=\"middle\" y=\"484.5\">\n",
       "    <tspan class=\"displacy-word\" fill=\"currentColor\" x=\"2325\">traveling</tspan>\n",
       "    <tspan class=\"displacy-tag\" dy=\"2em\" fill=\"currentColor\" x=\"2325\">VERB</tspan>\n",
       "</text>\n",
       "\n",
       "<text class=\"displacy-token\" fill=\"currentColor\" text-anchor=\"middle\" y=\"484.5\">\n",
       "    <tspan class=\"displacy-word\" fill=\"currentColor\" x=\"2500\">in</tspan>\n",
       "    <tspan class=\"displacy-tag\" dy=\"2em\" fill=\"currentColor\" x=\"2500\">ADP</tspan>\n",
       "</text>\n",
       "\n",
       "<text class=\"displacy-token\" fill=\"currentColor\" text-anchor=\"middle\" y=\"484.5\">\n",
       "    <tspan class=\"displacy-word\" fill=\"currentColor\" x=\"2675\">Greece!!</tspan>\n",
       "    <tspan class=\"displacy-tag\" dy=\"2em\" fill=\"currentColor\" x=\"2675\">PROPN</tspan>\n",
       "</text>\n",
       "\n",
       "<g class=\"displacy-arrow\">\n",
       "    <path class=\"displacy-arc\" id=\"arrow-9cd5e66828d94e978aaf8e37dddd2de9-0-0\" stroke-width=\"2px\" d=\"M70,439.5 C70,2.0 925.0,2.0 925.0,439.5\" fill=\"none\" stroke=\"currentColor\"/>\n",
       "    <text dy=\"1.25em\" style=\"font-size: 0.8em; letter-spacing: 1px\">\n",
       "        <textPath xlink:href=\"#arrow-9cd5e66828d94e978aaf8e37dddd2de9-0-0\" class=\"displacy-label\" startOffset=\"50%\" side=\"left\" fill=\"currentColor\" text-anchor=\"middle\">prep</textPath>\n",
       "    </text>\n",
       "    <path class=\"displacy-arrowhead\" d=\"M70,441.5 L62,429.5 78,429.5\" fill=\"currentColor\"/>\n",
       "</g>\n",
       "\n",
       "<g class=\"displacy-arrow\">\n",
       "    <path class=\"displacy-arc\" id=\"arrow-9cd5e66828d94e978aaf8e37dddd2de9-0-1\" stroke-width=\"2px\" d=\"M245,439.5 C245,352.0 380.0,352.0 380.0,439.5\" fill=\"none\" stroke=\"currentColor\"/>\n",
       "    <text dy=\"1.25em\" style=\"font-size: 0.8em; letter-spacing: 1px\">\n",
       "        <textPath xlink:href=\"#arrow-9cd5e66828d94e978aaf8e37dddd2de9-0-1\" class=\"displacy-label\" startOffset=\"50%\" side=\"left\" fill=\"currentColor\" text-anchor=\"middle\">nummod</textPath>\n",
       "    </text>\n",
       "    <path class=\"displacy-arrowhead\" d=\"M245,441.5 L237,429.5 253,429.5\" fill=\"currentColor\"/>\n",
       "</g>\n",
       "\n",
       "<g class=\"displacy-arrow\">\n",
       "    <path class=\"displacy-arc\" id=\"arrow-9cd5e66828d94e978aaf8e37dddd2de9-0-2\" stroke-width=\"2px\" d=\"M70,439.5 C70,264.5 385.0,264.5 385.0,439.5\" fill=\"none\" stroke=\"currentColor\"/>\n",
       "    <text dy=\"1.25em\" style=\"font-size: 0.8em; letter-spacing: 1px\">\n",
       "        <textPath xlink:href=\"#arrow-9cd5e66828d94e978aaf8e37dddd2de9-0-2\" class=\"displacy-label\" startOffset=\"50%\" side=\"left\" fill=\"currentColor\" text-anchor=\"middle\">pobj</textPath>\n",
       "    </text>\n",
       "    <path class=\"displacy-arrowhead\" d=\"M385.0,441.5 L393.0,429.5 377.0,429.5\" fill=\"currentColor\"/>\n",
       "</g>\n",
       "\n",
       "<g class=\"displacy-arrow\">\n",
       "    <path class=\"displacy-arc\" id=\"arrow-9cd5e66828d94e978aaf8e37dddd2de9-0-3\" stroke-width=\"2px\" d=\"M420,439.5 C420,352.0 555.0,352.0 555.0,439.5\" fill=\"none\" stroke=\"currentColor\"/>\n",
       "    <text dy=\"1.25em\" style=\"font-size: 0.8em; letter-spacing: 1px\">\n",
       "        <textPath xlink:href=\"#arrow-9cd5e66828d94e978aaf8e37dddd2de9-0-3\" class=\"displacy-label\" startOffset=\"50%\" side=\"left\" fill=\"currentColor\" text-anchor=\"middle\">nummod</textPath>\n",
       "    </text>\n",
       "    <path class=\"displacy-arrowhead\" d=\"M555.0,441.5 L563.0,429.5 547.0,429.5\" fill=\"currentColor\"/>\n",
       "</g>\n",
       "\n",
       "<g class=\"displacy-arrow\">\n",
       "    <path class=\"displacy-arc\" id=\"arrow-9cd5e66828d94e978aaf8e37dddd2de9-0-4\" stroke-width=\"2px\" d=\"M770,439.5 C770,352.0 905.0,352.0 905.0,439.5\" fill=\"none\" stroke=\"currentColor\"/>\n",
       "    <text dy=\"1.25em\" style=\"font-size: 0.8em; letter-spacing: 1px\">\n",
       "        <textPath xlink:href=\"#arrow-9cd5e66828d94e978aaf8e37dddd2de9-0-4\" class=\"displacy-label\" startOffset=\"50%\" side=\"left\" fill=\"currentColor\" text-anchor=\"middle\">nsubj</textPath>\n",
       "    </text>\n",
       "    <path class=\"displacy-arrowhead\" d=\"M770,441.5 L762,429.5 778,429.5\" fill=\"currentColor\"/>\n",
       "</g>\n",
       "\n",
       "<g class=\"displacy-arrow\">\n",
       "    <path class=\"displacy-arc\" id=\"arrow-9cd5e66828d94e978aaf8e37dddd2de9-0-5\" stroke-width=\"2px\" d=\"M1120,439.5 C1120,264.5 1435.0,264.5 1435.0,439.5\" fill=\"none\" stroke=\"currentColor\"/>\n",
       "    <text dy=\"1.25em\" style=\"font-size: 0.8em; letter-spacing: 1px\">\n",
       "        <textPath xlink:href=\"#arrow-9cd5e66828d94e978aaf8e37dddd2de9-0-5\" class=\"displacy-label\" startOffset=\"50%\" side=\"left\" fill=\"currentColor\" text-anchor=\"middle\">det</textPath>\n",
       "    </text>\n",
       "    <path class=\"displacy-arrowhead\" d=\"M1120,441.5 L1112,429.5 1128,429.5\" fill=\"currentColor\"/>\n",
       "</g>\n",
       "\n",
       "<g class=\"displacy-arrow\">\n",
       "    <path class=\"displacy-arc\" id=\"arrow-9cd5e66828d94e978aaf8e37dddd2de9-0-6\" stroke-width=\"2px\" d=\"M1295,439.5 C1295,352.0 1430.0,352.0 1430.0,439.5\" fill=\"none\" stroke=\"currentColor\"/>\n",
       "    <text dy=\"1.25em\" style=\"font-size: 0.8em; letter-spacing: 1px\">\n",
       "        <textPath xlink:href=\"#arrow-9cd5e66828d94e978aaf8e37dddd2de9-0-6\" class=\"displacy-label\" startOffset=\"50%\" side=\"left\" fill=\"currentColor\" text-anchor=\"middle\">compound</textPath>\n",
       "    </text>\n",
       "    <path class=\"displacy-arrowhead\" d=\"M1295,441.5 L1287,429.5 1303,429.5\" fill=\"currentColor\"/>\n",
       "</g>\n",
       "\n",
       "<g class=\"displacy-arrow\">\n",
       "    <path class=\"displacy-arc\" id=\"arrow-9cd5e66828d94e978aaf8e37dddd2de9-0-7\" stroke-width=\"2px\" d=\"M945,439.5 C945,177.0 1440.0,177.0 1440.0,439.5\" fill=\"none\" stroke=\"currentColor\"/>\n",
       "    <text dy=\"1.25em\" style=\"font-size: 0.8em; letter-spacing: 1px\">\n",
       "        <textPath xlink:href=\"#arrow-9cd5e66828d94e978aaf8e37dddd2de9-0-7\" class=\"displacy-label\" startOffset=\"50%\" side=\"left\" fill=\"currentColor\" text-anchor=\"middle\">dobj</textPath>\n",
       "    </text>\n",
       "    <path class=\"displacy-arrowhead\" d=\"M1440.0,441.5 L1448.0,429.5 1432.0,429.5\" fill=\"currentColor\"/>\n",
       "</g>\n",
       "\n",
       "<g class=\"displacy-arrow\">\n",
       "    <path class=\"displacy-arc\" id=\"arrow-9cd5e66828d94e978aaf8e37dddd2de9-0-8\" stroke-width=\"2px\" d=\"M945,439.5 C945,89.5 1620.0,89.5 1620.0,439.5\" fill=\"none\" stroke=\"currentColor\"/>\n",
       "    <text dy=\"1.25em\" style=\"font-size: 0.8em; letter-spacing: 1px\">\n",
       "        <textPath xlink:href=\"#arrow-9cd5e66828d94e978aaf8e37dddd2de9-0-8\" class=\"displacy-label\" startOffset=\"50%\" side=\"left\" fill=\"currentColor\" text-anchor=\"middle\">prep</textPath>\n",
       "    </text>\n",
       "    <path class=\"displacy-arrowhead\" d=\"M1620.0,441.5 L1628.0,429.5 1612.0,429.5\" fill=\"currentColor\"/>\n",
       "</g>\n",
       "\n",
       "<g class=\"displacy-arrow\">\n",
       "    <path class=\"displacy-arc\" id=\"arrow-9cd5e66828d94e978aaf8e37dddd2de9-0-9\" stroke-width=\"2px\" d=\"M1645,439.5 C1645,352.0 1780.0,352.0 1780.0,439.5\" fill=\"none\" stroke=\"currentColor\"/>\n",
       "    <text dy=\"1.25em\" style=\"font-size: 0.8em; letter-spacing: 1px\">\n",
       "        <textPath xlink:href=\"#arrow-9cd5e66828d94e978aaf8e37dddd2de9-0-9\" class=\"displacy-label\" startOffset=\"50%\" side=\"left\" fill=\"currentColor\" text-anchor=\"middle\">pcomp</textPath>\n",
       "    </text>\n",
       "    <path class=\"displacy-arrowhead\" d=\"M1780.0,441.5 L1788.0,429.5 1772.0,429.5\" fill=\"currentColor\"/>\n",
       "</g>\n",
       "\n",
       "<g class=\"displacy-arrow\">\n",
       "    <path class=\"displacy-arc\" id=\"arrow-9cd5e66828d94e978aaf8e37dddd2de9-0-10\" stroke-width=\"2px\" d=\"M1820,439.5 C1820,352.0 1955.0,352.0 1955.0,439.5\" fill=\"none\" stroke=\"currentColor\"/>\n",
       "    <text dy=\"1.25em\" style=\"font-size: 0.8em; letter-spacing: 1px\">\n",
       "        <textPath xlink:href=\"#arrow-9cd5e66828d94e978aaf8e37dddd2de9-0-10\" class=\"displacy-label\" startOffset=\"50%\" side=\"left\" fill=\"currentColor\" text-anchor=\"middle\">dobj</textPath>\n",
       "    </text>\n",
       "    <path class=\"displacy-arrowhead\" d=\"M1955.0,441.5 L1963.0,429.5 1947.0,429.5\" fill=\"currentColor\"/>\n",
       "</g>\n",
       "\n",
       "<g class=\"displacy-arrow\">\n",
       "    <path class=\"displacy-arc\" id=\"arrow-9cd5e66828d94e978aaf8e37dddd2de9-0-11\" stroke-width=\"2px\" d=\"M2170,439.5 C2170,352.0 2305.0,352.0 2305.0,439.5\" fill=\"none\" stroke=\"currentColor\"/>\n",
       "    <text dy=\"1.25em\" style=\"font-size: 0.8em; letter-spacing: 1px\">\n",
       "        <textPath xlink:href=\"#arrow-9cd5e66828d94e978aaf8e37dddd2de9-0-11\" class=\"displacy-label\" startOffset=\"50%\" side=\"left\" fill=\"currentColor\" text-anchor=\"middle\">mark</textPath>\n",
       "    </text>\n",
       "    <path class=\"displacy-arrowhead\" d=\"M2170,441.5 L2162,429.5 2178,429.5\" fill=\"currentColor\"/>\n",
       "</g>\n",
       "\n",
       "<g class=\"displacy-arrow\">\n",
       "    <path class=\"displacy-arc\" id=\"arrow-9cd5e66828d94e978aaf8e37dddd2de9-0-12\" stroke-width=\"2px\" d=\"M1820,439.5 C1820,177.0 2315.0,177.0 2315.0,439.5\" fill=\"none\" stroke=\"currentColor\"/>\n",
       "    <text dy=\"1.25em\" style=\"font-size: 0.8em; letter-spacing: 1px\">\n",
       "        <textPath xlink:href=\"#arrow-9cd5e66828d94e978aaf8e37dddd2de9-0-12\" class=\"displacy-label\" startOffset=\"50%\" side=\"left\" fill=\"currentColor\" text-anchor=\"middle\">advcl</textPath>\n",
       "    </text>\n",
       "    <path class=\"displacy-arrowhead\" d=\"M2315.0,441.5 L2323.0,429.5 2307.0,429.5\" fill=\"currentColor\"/>\n",
       "</g>\n",
       "\n",
       "<g class=\"displacy-arrow\">\n",
       "    <path class=\"displacy-arc\" id=\"arrow-9cd5e66828d94e978aaf8e37dddd2de9-0-13\" stroke-width=\"2px\" d=\"M2345,439.5 C2345,352.0 2480.0,352.0 2480.0,439.5\" fill=\"none\" stroke=\"currentColor\"/>\n",
       "    <text dy=\"1.25em\" style=\"font-size: 0.8em; letter-spacing: 1px\">\n",
       "        <textPath xlink:href=\"#arrow-9cd5e66828d94e978aaf8e37dddd2de9-0-13\" class=\"displacy-label\" startOffset=\"50%\" side=\"left\" fill=\"currentColor\" text-anchor=\"middle\">prep</textPath>\n",
       "    </text>\n",
       "    <path class=\"displacy-arrowhead\" d=\"M2480.0,441.5 L2488.0,429.5 2472.0,429.5\" fill=\"currentColor\"/>\n",
       "</g>\n",
       "\n",
       "<g class=\"displacy-arrow\">\n",
       "    <path class=\"displacy-arc\" id=\"arrow-9cd5e66828d94e978aaf8e37dddd2de9-0-14\" stroke-width=\"2px\" d=\"M2520,439.5 C2520,352.0 2655.0,352.0 2655.0,439.5\" fill=\"none\" stroke=\"currentColor\"/>\n",
       "    <text dy=\"1.25em\" style=\"font-size: 0.8em; letter-spacing: 1px\">\n",
       "        <textPath xlink:href=\"#arrow-9cd5e66828d94e978aaf8e37dddd2de9-0-14\" class=\"displacy-label\" startOffset=\"50%\" side=\"left\" fill=\"currentColor\" text-anchor=\"middle\">pobj</textPath>\n",
       "    </text>\n",
       "    <path class=\"displacy-arrowhead\" d=\"M2655.0,441.5 L2663.0,429.5 2647.0,429.5\" fill=\"currentColor\"/>\n",
       "</g>\n",
       "</svg>\n",
       "\n",
       "<svg xmlns=\"http://www.w3.org/2000/svg\" xmlns:xlink=\"http://www.w3.org/1999/xlink\" xml:lang=\"en\" id=\"9cd5e66828d94e978aaf8e37dddd2de9-1\" class=\"displacy\" width=\"750\" height=\"399.5\" direction=\"ltr\" style=\"max-width: none; height: 399.5px; color: #000000; background: #ffffff; font-family: Arial; direction: ltr\">\n",
       "<text class=\"displacy-token\" fill=\"currentColor\" text-anchor=\"middle\" y=\"309.5\">\n",
       "    <tspan class=\"displacy-word\" fill=\"currentColor\" x=\"50\">Testing</tspan>\n",
       "    <tspan class=\"displacy-tag\" dy=\"2em\" fill=\"currentColor\" x=\"50\">NOUN</tspan>\n",
       "</text>\n",
       "\n",
       "<text class=\"displacy-token\" fill=\"currentColor\" text-anchor=\"middle\" y=\"309.5\">\n",
       "    <tspan class=\"displacy-word\" fill=\"currentColor\" x=\"225\">1,</tspan>\n",
       "    <tspan class=\"displacy-tag\" dy=\"2em\" fill=\"currentColor\" x=\"225\">NUM</tspan>\n",
       "</text>\n",
       "\n",
       "<text class=\"displacy-token\" fill=\"currentColor\" text-anchor=\"middle\" y=\"309.5\">\n",
       "    <tspan class=\"displacy-word\" fill=\"currentColor\" x=\"400\">two,</tspan>\n",
       "    <tspan class=\"displacy-tag\" dy=\"2em\" fill=\"currentColor\" x=\"400\">NUM</tspan>\n",
       "</text>\n",
       "\n",
       "<text class=\"displacy-token\" fill=\"currentColor\" text-anchor=\"middle\" y=\"309.5\">\n",
       "    <tspan class=\"displacy-word\" fill=\"currentColor\" x=\"575\">3</tspan>\n",
       "    <tspan class=\"displacy-tag\" dy=\"2em\" fill=\"currentColor\" x=\"575\">NUM</tspan>\n",
       "</text>\n",
       "\n",
       "<g class=\"displacy-arrow\">\n",
       "    <path class=\"displacy-arc\" id=\"arrow-9cd5e66828d94e978aaf8e37dddd2de9-1-0\" stroke-width=\"2px\" d=\"M70,264.5 C70,177.0 215.0,177.0 215.0,264.5\" fill=\"none\" stroke=\"currentColor\"/>\n",
       "    <text dy=\"1.25em\" style=\"font-size: 0.8em; letter-spacing: 1px\">\n",
       "        <textPath xlink:href=\"#arrow-9cd5e66828d94e978aaf8e37dddd2de9-1-0\" class=\"displacy-label\" startOffset=\"50%\" side=\"left\" fill=\"currentColor\" text-anchor=\"middle\">nummod</textPath>\n",
       "    </text>\n",
       "    <path class=\"displacy-arrowhead\" d=\"M215.0,266.5 L223.0,254.5 207.0,254.5\" fill=\"currentColor\"/>\n",
       "</g>\n",
       "\n",
       "<g class=\"displacy-arrow\">\n",
       "    <path class=\"displacy-arc\" id=\"arrow-9cd5e66828d94e978aaf8e37dddd2de9-1-1\" stroke-width=\"2px\" d=\"M70,264.5 C70,89.5 395.0,89.5 395.0,264.5\" fill=\"none\" stroke=\"currentColor\"/>\n",
       "    <text dy=\"1.25em\" style=\"font-size: 0.8em; letter-spacing: 1px\">\n",
       "        <textPath xlink:href=\"#arrow-9cd5e66828d94e978aaf8e37dddd2de9-1-1\" class=\"displacy-label\" startOffset=\"50%\" side=\"left\" fill=\"currentColor\" text-anchor=\"middle\">nummod</textPath>\n",
       "    </text>\n",
       "    <path class=\"displacy-arrowhead\" d=\"M395.0,266.5 L403.0,254.5 387.0,254.5\" fill=\"currentColor\"/>\n",
       "</g>\n",
       "\n",
       "<g class=\"displacy-arrow\">\n",
       "    <path class=\"displacy-arc\" id=\"arrow-9cd5e66828d94e978aaf8e37dddd2de9-1-2\" stroke-width=\"2px\" d=\"M70,264.5 C70,2.0 575.0,2.0 575.0,264.5\" fill=\"none\" stroke=\"currentColor\"/>\n",
       "    <text dy=\"1.25em\" style=\"font-size: 0.8em; letter-spacing: 1px\">\n",
       "        <textPath xlink:href=\"#arrow-9cd5e66828d94e978aaf8e37dddd2de9-1-2\" class=\"displacy-label\" startOffset=\"50%\" side=\"left\" fill=\"currentColor\" text-anchor=\"middle\">nummod</textPath>\n",
       "    </text>\n",
       "    <path class=\"displacy-arrowhead\" d=\"M575.0,266.5 L583.0,254.5 567.0,254.5\" fill=\"currentColor\"/>\n",
       "</g>\n",
       "</svg></span>"
      ],
      "text/plain": [
       "<IPython.core.display.HTML object>"
      ]
     },
     "metadata": {},
     "output_type": "display_data"
    },
    {
     "data": {
      "text/html": [
       "<span class=\"tex2jax_ignore\"><div class=\"entities\" style=\"line-height: 2.5; direction: ltr\">On \n",
       "<mark class=\"entity\" style=\"background: #bfe1d9; padding: 0.45em 0.6em; margin: 0 0.25em; line-height: 1; border-radius: 0.35em;\">\n",
       "    11 August 2021\n",
       "    <span style=\"font-size: 0.8em; font-weight: bold; line-height: 1; border-radius: 0.35em; vertical-align: middle; margin-left: 0.5rem\">DATE</span>\n",
       "</mark>\n",
       ", \n",
       "<mark class=\"entity\" style=\"background: #aa9cfc; padding: 0.45em 0.6em; margin: 0 0.25em; line-height: 1; border-radius: 0.35em;\">\n",
       "    Thomas\n",
       "    <span style=\"font-size: 0.8em; font-weight: bold; line-height: 1; border-radius: 0.35em; vertical-align: middle; margin-left: 0.5rem\">PERSON</span>\n",
       "</mark>\n",
       " uses \n",
       "<mark class=\"entity\" style=\"background: #7aecec; padding: 0.45em 0.6em; margin: 0 0.25em; line-height: 1; border-radius: 0.35em;\">\n",
       "    the Apple Macbook\n",
       "    <span style=\"font-size: 0.8em; font-weight: bold; line-height: 1; border-radius: 0.35em; vertical-align: middle; margin-left: 0.5rem\">ORG</span>\n",
       "</mark>\n",
       " for practicing Python while traveling in \n",
       "<mark class=\"entity\" style=\"background: #feca74; padding: 0.45em 0.6em; margin: 0 0.25em; line-height: 1; border-radius: 0.35em;\">\n",
       "    Greece\n",
       "    <span style=\"font-size: 0.8em; font-weight: bold; line-height: 1; border-radius: 0.35em; vertical-align: middle; margin-left: 0.5rem\">GPE</span>\n",
       "</mark>\n",
       "!! Testing \n",
       "<mark class=\"entity\" style=\"background: #e4e7d2; padding: 0.45em 0.6em; margin: 0 0.25em; line-height: 1; border-radius: 0.35em;\">\n",
       "    1\n",
       "    <span style=\"font-size: 0.8em; font-weight: bold; line-height: 1; border-radius: 0.35em; vertical-align: middle; margin-left: 0.5rem\">CARDINAL</span>\n",
       "</mark>\n",
       ", \n",
       "<mark class=\"entity\" style=\"background: #e4e7d2; padding: 0.45em 0.6em; margin: 0 0.25em; line-height: 1; border-radius: 0.35em;\">\n",
       "    two\n",
       "    <span style=\"font-size: 0.8em; font-weight: bold; line-height: 1; border-radius: 0.35em; vertical-align: middle; margin-left: 0.5rem\">CARDINAL</span>\n",
       "</mark>\n",
       ", \n",
       "<mark class=\"entity\" style=\"background: #e4e7d2; padding: 0.45em 0.6em; margin: 0 0.25em; line-height: 1; border-radius: 0.35em;\">\n",
       "    3\n",
       "    <span style=\"font-size: 0.8em; font-weight: bold; line-height: 1; border-radius: 0.35em; vertical-align: middle; margin-left: 0.5rem\">CARDINAL</span>\n",
       "</mark>\n",
       "</div></span>"
      ],
      "text/plain": [
       "<IPython.core.display.HTML object>"
      ]
     },
     "metadata": {},
     "output_type": "display_data"
    }
   ],
   "source": [
    "# # standard displacy rendering\n",
    "# displacy.render(doc)\n",
    "\n",
    "# render by sentences\n",
    "displacy.render(doc.sents)\n",
    "\n",
    "# cooler one\n",
    "displacy.render(doc, style=\"ent\")"
   ]
  },
  {
   "cell_type": "markdown",
   "id": "489bf322-ff5a-401a-bffd-f74b4c8a257e",
   "metadata": {},
   "source": [
    "."
   ]
  },
  {
   "cell_type": "markdown",
   "id": "d09f428f-56d7-44a8-9cb9-93a7fa52ffac",
   "metadata": {
    "tags": []
   },
   "source": [
    "# Stop words"
   ]
  },
  {
   "cell_type": "code",
   "execution_count": 256,
   "id": "cbc14020-e923-4b22-a5c7-41bbaafdc8af",
   "metadata": {},
   "outputs": [
    {
     "name": "stdout",
     "output_type": "stream",
     "text": [
      "17\n",
      "6\n",
      "{'in', 'the', 'while', 'two', 'for', 'On'}\n"
     ]
    }
   ],
   "source": [
    "# to see all non stop words in a doc\n",
    "noStopWordsHere = []\n",
    "hereBeStopWords = []\n",
    "for token in doc:\n",
    "    if not token.is_stop:\n",
    "        noStopWordsHere.append(token.text)\n",
    "    else:\n",
    "        hereBeStopWords.append(token.text)\n",
    "        \n",
    "        \n",
    "print(len(set(noStopWordsHere))) #how many non stop words in deduped list?\n",
    "print(len(set(hereBeStopWords))) #vs how many stop words in deduped list?\n",
    "print(set(hereBeStopWords))      #print out the stop words in deduped list."
   ]
  },
  {
   "cell_type": "markdown",
   "id": "d811a8b3-f4b2-40fb-9e66-2b1437f4bf56",
   "metadata": {},
   "source": [
    "."
   ]
  },
  {
   "cell_type": "markdown",
   "id": "d6f042d6-8694-4669-88fb-9d248832371b",
   "metadata": {},
   "source": [
    "## Other things  🤷‍♂️\n"
   ]
  },
  {
   "cell_type": "code",
   "execution_count": 160,
   "id": "e0e5d3e4-9fc3-4a8f-a8ac-e9433116046f",
   "metadata": {},
   "outputs": [
    {
     "data": {
      "text/plain": [
       "[11 August, Thomas, the Apple Macbook, Python, Greece, Testing]"
      ]
     },
     "execution_count": 160,
     "metadata": {},
     "output_type": "execute_result"
    }
   ],
   "source": [
    "# get only the nouns\n",
    "list([i for i in doc.noun_chunks])"
   ]
  },
  {
   "cell_type": "code",
   "execution_count": 162,
   "id": "008e3cff-8b58-4e97-8878-5140bf0fd7aa",
   "metadata": {},
   "outputs": [
    {
     "data": {
      "text/plain": [
       "[On 11 August 2021, Thomas uses the Apple Macbook for practicing Python while traveling in Greece!!,\n",
       " Testing 1, two, 3]"
      ]
     },
     "execution_count": 162,
     "metadata": {},
     "output_type": "execute_result"
    }
   ],
   "source": [
    "# get all the sentences\n",
    "list([i for i in doc.sents])"
   ]
  },
  {
   "cell_type": "code",
   "execution_count": 237,
   "id": "f8f33eff-bac1-4d28-ba66-acf2e434be8a",
   "metadata": {},
   "outputs": [
    {
     "name": "stdout",
     "output_type": "stream",
     "text": [
      "5854064017242738633\n",
      "Use\n"
     ]
    }
   ],
   "source": [
    "# Strings to hashes\n",
    "word_hash = nlp.vocab.strings['Important']\n",
    "print(word_hash)\n",
    "\n",
    "# Hashes to strings\n",
    "word_string = nlp.vocab.strings[word_hash]\n",
    "print(word_string)"
   ]
  },
  {
   "cell_type": "code",
   "execution_count": 170,
   "id": "87fc87de-2f07-4679-ab2e-d409637df625",
   "metadata": {
    "scrolled": true,
    "tags": []
   },
   "outputs": [],
   "source": [
    "# list out the vocab? idk...\n",
    "# list([i.text for i in doc.vocab])"
   ]
  },
  {
   "cell_type": "code",
   "execution_count": null,
   "id": "2e678f8c-9127-4fa6-a594-672613eae016",
   "metadata": {},
   "outputs": [],
   "source": [
    "# # Word vectors and similarity based on model you have loaded up (en_core_web_sm)\n",
    "# nlp('Nice').has_vector  \n",
    "# nlp('Nice').vector\n",
    "# nlp('Thomas').vector_norm"
   ]
  },
  {
   "cell_type": "code",
   "execution_count": 180,
   "id": "e4b941a9-9b35-4344-b662-17975bc115bf",
   "metadata": {},
   "outputs": [
    {
     "data": {
      "text/plain": [
       "[(0.48167102784100796, 'snake'),\n",
       " (0.8215554289062845, 'tabby'),\n",
       " (0.5265436766852823, 'lion'),\n",
       " (0.8409757687002631, 'cats'),\n",
       " (0.6921648076691282, 'dogs'),\n",
       " (1.0, 'cat'),\n",
       " (0.8016854705531046, 'dog'),\n",
       " (0.5413389826292829, 'panther'),\n",
       " (0.4180653522513407, 'fish'),\n",
       " (0.24077498521219193, 'spoon'),\n",
       " (0.2946319117471937, 'bowl'),\n",
       " (0.27362862685425554, 'chair'),\n",
       " (0.23974348597327558, 'lamp'),\n",
       " (0.43194828699956045, 'iguana'),\n",
       " (0.5321326245349185, 'rodent'),\n",
       " (1.0000000913918174, 'feline'),\n",
       " (0.5460768016223961, 'meow'),\n",
       " (0.5639032807711905, 'furball'),\n",
       " (0.5236872879447847, 'bird'),\n",
       " (-0.06685005407684443, 'catepillar')]"
      ]
     },
     "execution_count": 180,
     "metadata": {},
     "output_type": "execute_result"
    }
   ],
   "source": [
    "nlp('dog').similarity(nlp('cat'))   # don't use the 'sm' model which doesn't have word vectors loaded\n",
    "\n",
    "animals = [\n",
    "    'snake',\n",
    "    'tabby',\n",
    "    'lion',\n",
    "    'cats',\n",
    "    'dogs',\n",
    "    'cat',\n",
    "    'dog',\n",
    "    'panther',\n",
    "    'fish',\n",
    "    'spoon',\n",
    "    'bowl',\n",
    "    'chair',\n",
    "    'lamp',\n",
    "    'iguana',\n",
    "    'rodent',\n",
    "    'feline',\n",
    "    'meow',\n",
    "    'furball',\n",
    "    'bird',\n",
    "    'catepillar'\n",
    "]\n",
    "\n",
    "# compare likeness to 'cat'\n",
    "[(nlp(i).similarity(nlp('cat')), i) for i in animals]"
   ]
  },
  {
   "cell_type": "code",
   "execution_count": 172,
   "id": "2790e944-d6e9-420b-9dd3-69fe38554080",
   "metadata": {},
   "outputs": [
    {
     "data": {
      "text/plain": [
       "dict_keys(['text', 'array_head', 'array_body', 'sentiment', 'tensor', 'cats', 'spans', 'strings', 'has_unknown_spaces'])"
      ]
     },
     "execution_count": 172,
     "metadata": {},
     "output_type": "execute_result"
    }
   ],
   "source": [
    "x = doc.to_dict()\n",
    "x.keys()\n",
    "# x['text']"
   ]
  },
  {
   "cell_type": "code",
   "execution_count": 212,
   "id": "80f3b900-2b3f-4d86-9978-3665b1c329ac",
   "metadata": {},
   "outputs": [
    {
     "data": {
      "text/plain": [
       "['tok2vec', 'tagger', 'parser', 'attribute_ruler', 'lemmatizer', 'ner']"
      ]
     },
     "execution_count": 212,
     "metadata": {},
     "output_type": "execute_result"
    }
   ],
   "source": [
    "nlp.pipe_names"
   ]
  },
  {
   "cell_type": "code",
   "execution_count": 228,
   "id": "d594d8c5-96e6-4246-a3c3-dba96381681a",
   "metadata": {},
   "outputs": [
    {
     "data": {
      "text/plain": [
       "'Xx'"
      ]
     },
     "execution_count": 228,
     "metadata": {},
     "output_type": "execute_result"
    }
   ],
   "source": [
    "doc[0].shape_"
   ]
  },
  {
   "cell_type": "markdown",
   "id": "fcd31e27-be73-44f5-b3e9-0cc062404068",
   "metadata": {},
   "source": [
    "."
   ]
  },
  {
   "cell_type": "markdown",
   "id": "54790283-ca43-4ef1-be80-17797238ed5b",
   "metadata": {},
   "source": [
    "# Matcher crap"
   ]
  },
  {
   "cell_type": "code",
   "execution_count": 206,
   "id": "08539e38-13e6-4cb3-9504-9a1a5f4c8dcc",
   "metadata": {},
   "outputs": [
    {
     "name": "stdout",
     "output_type": "stream",
     "text": [
      "15578876784678163569 HelloWorld 0 3 Hello, world\n",
      "15578876784678163569 HelloWorld 4 7 Hello, world\n"
     ]
    }
   ],
   "source": [
    "# Example\n",
    "import spacy\n",
    "from spacy.matcher import Matcher\n",
    "\n",
    "nlp = spacy.load(\"en_core_web_sm\")\n",
    "matcher = Matcher(nlp.vocab)\n",
    "\n",
    "# Add match ID \"HelloWorld\" with no callback and one pattern\n",
    "pattern = [{\"LOWER\": \"hello\"}, {\"IS_PUNCT\": True}, {\"LOWER\": \"world\"}]\n",
    "matcher.add(\"HelloWorld\", [pattern])\n",
    "\n",
    "doc = nlp(\"Hello, world! Hello, world!\")\n",
    "matches = matcher(doc)\n",
    "for match_id, start, end in matches:\n",
    "    string_id = nlp.vocab.strings[match_id]  # Get string representation\n",
    "    span = doc[start:end]  # The matched span\n",
    "    print(match_id, string_id, start, end, span.text)"
   ]
  },
  {
   "cell_type": "code",
   "execution_count": null,
   "id": "34d48e47-b417-446a-be2c-155ac4579a96",
   "metadata": {},
   "outputs": [],
   "source": []
  },
  {
   "cell_type": "markdown",
   "id": "06fb5a41-c150-4798-aa31-3de166881b0b",
   "metadata": {},
   "source": [
    "### My attempts at matcher:"
   ]
  },
  {
   "cell_type": "code",
   "execution_count": 236,
   "id": "cc5228a3-ae50-4931-b169-e6433091d6b6",
   "metadata": {},
   "outputs": [
    {
     "data": {
      "text/plain": [
       "[(9570226570207762279, 6, 7)]"
      ]
     },
     "execution_count": 236,
     "metadata": {},
     "output_type": "execute_result"
    }
   ],
   "source": [
    "pattern = [{\"LEMMA\": 'use'}]\n",
    "matcher.add(\"Use\", [pattern])\n",
    "matches = matcher(doc)\n",
    "matches"
   ]
  },
  {
   "cell_type": "code",
   "execution_count": 266,
   "id": "9098267e-b67c-4b25-a9fb-463e91d4d722",
   "metadata": {},
   "outputs": [
    {
     "name": "stdout",
     "output_type": "stream",
     "text": [
      "9570226570207762279 uses uses\n"
     ]
    }
   ],
   "source": [
    "doc = nlp(\"On 11 August 2021, Thomas uses the Apple Macbook for practicing Python while traveling in Greece!! \\\n",
    "           Testing 1, two, 3 😅\")\n",
    "\n",
    "for match_id, start, stop in matches:\n",
    "#     string_id = nlp.vocab.strings[match_id]\n",
    "    span = doc[start:stop]\n",
    "    print(match_id, span, span.text)"
   ]
  },
  {
   "cell_type": "code",
   "execution_count": 238,
   "id": "65a40fdc-ee00-4c03-a13c-db01bf3c99a4",
   "metadata": {},
   "outputs": [
    {
     "data": {
      "text/plain": [
       "'Use'"
      ]
     },
     "execution_count": 238,
     "metadata": {},
     "output_type": "execute_result"
    }
   ],
   "source": [
    "nlp.vocab.strings[9570226570207762279] #takes the hash and gives the word"
   ]
  },
  {
   "cell_type": "code",
   "execution_count": 252,
   "id": "f2ae6412-f545-45e7-9698-227ca7b6eeb5",
   "metadata": {
    "scrolled": true,
    "tags": []
   },
   "outputs": [
    {
     "name": "stdout",
     "output_type": "stream",
     "text": [
      "18.3 µs ± 145 ns per loop (mean ± std. dev. of 7 runs, 100000 loops each)\n"
     ]
    }
   ],
   "source": [
    "%%timeit\n",
    "for token in doc:\n",
    "    if token.is_stop == False:\n",
    "        token.text, token.lemma_, token.pos_, token.tag_, token.dep_, token.shape_, token.is_alpha, token.is_stop"
   ]
  },
  {
   "cell_type": "code",
   "execution_count": 260,
   "id": "d8761581-059f-48d3-9d9f-3d1a858ce001",
   "metadata": {},
   "outputs": [
    {
     "data": {
      "text/plain": [
       "[On, the, for, while, in, two]"
      ]
     },
     "execution_count": 260,
     "metadata": {},
     "output_type": "execute_result"
    }
   ],
   "source": [
    "[token for token in doc if token.is_stop == True]"
   ]
  },
  {
   "cell_type": "code",
   "execution_count": 261,
   "id": "5d3252db-8679-45e1-a1f6-8d68124890cb",
   "metadata": {},
   "outputs": [
    {
     "data": {
      "text/plain": [
       "[11,\n",
       " August,\n",
       " 2021,\n",
       " ,,\n",
       " Thomas,\n",
       " uses,\n",
       " Apple,\n",
       " Macbook,\n",
       " practicing,\n",
       " Python,\n",
       " traveling,\n",
       " Greece,\n",
       " !,\n",
       " !,\n",
       "            ,\n",
       " Testing,\n",
       " 1,\n",
       " ,,\n",
       " ,,\n",
       " 3]"
      ]
     },
     "execution_count": 261,
     "metadata": {},
     "output_type": "execute_result"
    }
   ],
   "source": [
    "[token for token in doc if token.is_stop == False]"
   ]
  },
  {
   "cell_type": "code",
   "execution_count": 274,
   "id": "09c1c556-7b93-458e-a604-9d068f2e97cf",
   "metadata": {},
   "outputs": [
    {
     "data": {
      "text/plain": [
       "[11 August,\n",
       " Thomas,\n",
       " the Apple Macbook,\n",
       " Python,\n",
       " Greece,\n",
       "            Testing 1, two, 3 😅]"
      ]
     },
     "execution_count": 274,
     "metadata": {},
     "output_type": "execute_result"
    }
   ],
   "source": [
    "[token for token in doc.noun_chunks]"
   ]
  },
  {
   "cell_type": "code",
   "execution_count": null,
   "id": "d836b208-d5c9-4960-bf42-91338694ff79",
   "metadata": {},
   "outputs": [],
   "source": []
  },
  {
   "cell_type": "code",
   "execution_count": null,
   "id": "7be556df-cbd1-4b2b-a10d-648457eb7570",
   "metadata": {},
   "outputs": [],
   "source": []
  }
 ],
 "metadata": {
  "kernelspec": {
   "display_name": "Python 3",
   "language": "python",
   "name": "python3"
  },
  "language_info": {
   "codemirror_mode": {
    "name": "ipython",
    "version": 3
   },
   "file_extension": ".py",
   "mimetype": "text/x-python",
   "name": "python",
   "nbconvert_exporter": "python",
   "pygments_lexer": "ipython3",
   "version": "3.9.5"
  }
 },
 "nbformat": 4,
 "nbformat_minor": 5
}
